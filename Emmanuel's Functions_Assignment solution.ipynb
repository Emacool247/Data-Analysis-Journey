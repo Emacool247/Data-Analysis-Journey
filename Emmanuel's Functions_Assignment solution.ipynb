{
 "cells": [
  {
   "cell_type": "markdown",
   "id": "6c72e789-0b9e-4995-90d4-fb025e467746",
   "metadata": {},
   "source": [
    "# Task 1\n",
    "\n",
    "Sum of Digits\n",
    "\n",
    "Write a function sum_of_digits(n) that takes a positive integer and returns the sum of its digits.\n",
    "\n",
    "Example: sum_of_digits(123) → 6"
   ]
  },
  {
   "cell_type": "code",
   "execution_count": 21,
   "id": "487e8436-def4-492d-a664-9d83de862d9d",
   "metadata": {},
   "outputs": [],
   "source": [
    "def sum_of_digits(numbers):\n",
    "    total = 0 ## initial output is set to zero\n",
    "    for i in numbers: # iterate using the index across the list\n",
    "        total += i # add each after a single iteration to the previous one.\n",
    "    return total #return the output after iterating and adding through the list.\n"
   ]
  },
  {
   "cell_type": "code",
   "execution_count": 23,
   "id": "1aae5dbc-92ea-40aa-b9df-665238556624",
   "metadata": {},
   "outputs": [
    {
     "data": {
      "text/plain": [
       "101"
      ]
     },
     "execution_count": 23,
     "metadata": {},
     "output_type": "execute_result"
    }
   ],
   "source": [
    "sum_of_digits([5,9,12,54,21])"
   ]
  },
  {
   "cell_type": "markdown",
   "id": "08accfc3-0bb9-4444-ab01-8679c4980d4f",
   "metadata": {},
   "source": [
    "# Task 2\n",
    "Find Duplicates\n",
    "\n",
    "Create a function find_duplicates(numbers) that returns a list of duplicate numbers from a given list.\n",
    "\n",
    "Example: find_duplicates([1, 2, 3, 2, 4, 5, 4]) → [2, 4]"
   ]
  },
  {
   "cell_type": "code",
   "execution_count": 66,
   "id": "620e4456-6c96-4dac-a41d-0a24a5551c42",
   "metadata": {},
   "outputs": [],
   "source": [
    "def find_duplicates(numbers):\n",
    "    Iterated_num = set() #create an empty set to keep all the numbers seen after each  iteration\n",
    "    dup = set() # set where all the duplicates will be stored as a set\n",
    "\n",
    "    for num in numbers: #start the iteration first through the main list and add them to the iterated set in the frst iteration\n",
    "        if num in Iterated_num: # if the numbers are in the already iterated set, it means it is duplicate, add to the duplicate list.\n",
    "            dup.add(num)\n",
    "        else:\n",
    "            Iterated_num.add(num) #else add to the iterated list and print the duplicate set as a list.\n",
    "\n",
    "    print(\"Here is the list of repeated numbers\", list(dup))"
   ]
  },
  {
   "cell_type": "code",
   "execution_count": 68,
   "id": "409fc393-a61b-4d95-a807-4935f50ca1c4",
   "metadata": {},
   "outputs": [
    {
     "name": "stdout",
     "output_type": "stream",
     "text": [
      "Here is the list of repeated numbers [1, 2, 5, 6]\n"
     ]
    }
   ],
   "source": [
    "find_duplicates([1, 2, 13, 4,5 ,2,1,2, 5,6, 10, 6, 7])"
   ]
  },
  {
   "cell_type": "markdown",
   "id": "f7bf151b-6cff-4a42-b137-a7ac5184febf",
   "metadata": {},
   "source": [
    "# Task 3\n",
    "Count Occurrences of a Word\n",
    "\n",
    "Write a function count_word_occurrences(sentence, word) that counts how many times a given word appears in a sentence.\n",
    "\n",
    "Example: count_word_occurrences(\"apple banana apple\", \"apple\") → 2\n"
   ]
  },
  {
   "cell_type": "code",
   "execution_count": 42,
   "id": "5c37f5bd-7f6f-4aa2-bb59-3035435c1da0",
   "metadata": {},
   "outputs": [],
   "source": [
    "def count_word_occurrences(sentence, word):\n",
    "    # Convert sentence and word to lowercase for case-insensitive matching\n",
    "    sentence = sentence.lower()\n",
    "    word = word.lower()\n",
    "\n",
    "    # Split the sentence into words and count occurrences of the word\n",
    "    words = sentence.split()\n",
    "    return words.count(word)"
   ]
  },
  {
   "cell_type": "code",
   "execution_count": 52,
   "id": "a5e7b2d6-70ac-4e19-9dbb-acfcf7edb3b2",
   "metadata": {},
   "outputs": [
    {
     "data": {
      "text/plain": [
       "2"
      ]
     },
     "execution_count": 52,
     "metadata": {},
     "output_type": "execute_result"
    }
   ],
   "source": [
    "count_word_occurrences(\"The Nose of the boy is so wiled and harsh\",\"the\")"
   ]
  },
  {
   "cell_type": "markdown",
   "id": "dd8684a2-d694-4905-b45c-71e6b9190b44",
   "metadata": {},
   "source": [
    "# Task 4\n",
    "Convert Celsius to Fahrenheit\n",
    "\n",
    "Define a function celsius_to_fahrenheit(celsius) that converts a temperature from Celsius to Fahrenheit.\n",
    "\n",
    "Formula: (celsius * 9/5) + 32\n"
   ]
  },
  {
   "cell_type": "code",
   "execution_count": 137,
   "id": "d3e4cf7f-f6f6-47e7-ab3b-dacac432ca4d",
   "metadata": {},
   "outputs": [],
   "source": [
    "def celsius_to_fahrenheit(celsius):\n",
    "    fahrenheit = (celsius * 9/5) + 32\n",
    "    print(f\"When you convert {celsius}°C, you will have {fahrenheit}°F\")"
   ]
  },
  {
   "cell_type": "code",
   "execution_count": 141,
   "id": "c646569a-b28d-4e29-8e95-5dad2bdad481",
   "metadata": {},
   "outputs": [
    {
     "name": "stdout",
     "output_type": "stream",
     "text": [
      "When you convert 45°C, you will have 113.0°F\n"
     ]
    }
   ],
   "source": [
    "celsius_to_fahrenheit(45)"
   ]
  },
  {
   "cell_type": "markdown",
   "id": "e11be344-cfb8-40bb-b4c3-cf8204b0284b",
   "metadata": {},
   "source": [
    "# Task 5\n",
    "Find Common Elements\n",
    "\n",
    "Write a function common_elements(list1, list2) that takes two lists and returns a new list containing elements common to both.\n",
    "\n",
    "Example: common_elements([1, 2, 3], [3, 4, 5]) → [3]"
   ]
  },
  {
   "cell_type": "code",
   "execution_count": 84,
   "id": "9c7264b1-ec86-4996-99fd-1889e0a7f89a",
   "metadata": {},
   "outputs": [],
   "source": [
    "def common_elements(list1, list2):\n",
    "    return list(set(list1) & set(list2)) #use a set to find the intercept of the both list."
   ]
  },
  {
   "cell_type": "code",
   "execution_count": 127,
   "id": "1cc05428-45d7-4cd1-9af5-9d137f851006",
   "metadata": {},
   "outputs": [],
   "source": [
    "list1 = [12, 6, 3, 4, 5] #create the two different list and use the function decleared above to find the common element.\n",
    "list2 = [3, 4, 6, 6, 12]"
   ]
  },
  {
   "cell_type": "code",
   "execution_count": 129,
   "id": "1574ca3d-6e05-41aa-a4a9-d7d5518f017f",
   "metadata": {},
   "outputs": [
    {
     "data": {
      "text/plain": [
       "[3, 4, 12, 6]"
      ]
     },
     "execution_count": 129,
     "metadata": {},
     "output_type": "execute_result"
    }
   ],
   "source": [
    "common_elements(list1, list2)"
   ]
  },
  {
   "cell_type": "markdown",
   "id": "b0d19dfc-48df-4396-93ab-7e6eee93f363",
   "metadata": {},
   "source": [
    "# Task 6\n",
    "Remove Duplicates\n",
    "\n",
    "Create a function  remove_duplicates(numbers)  that removes duplicate numbers from a list and returns a list of unique elements.\n",
    "\n",
    "\n"
   ]
  },
  {
   "cell_type": "code",
   "execution_count": 92,
   "id": "f17e6b5e-3240-407a-8f18-0212320ef7f9",
   "metadata": {},
   "outputs": [],
   "source": [
    "def remove_duplicates(numbers):\n",
    "    # Since we know that a set does not allow for duplicates, we first convert the list to a set and then back to a list.\n",
    "    return list(set(numbers))"
   ]
  },
  {
   "cell_type": "code",
   "execution_count": 125,
   "id": "b8b24e06-031d-49a2-803e-32b5c2bc5de5",
   "metadata": {},
   "outputs": [
    {
     "data": {
      "text/plain": [
       "[42, 11, 12, 15, 30]"
      ]
     },
     "execution_count": 125,
     "metadata": {},
     "output_type": "execute_result"
    }
   ],
   "source": [
    "remove_duplicates([11, 12, 12, 30, 42, 42, 15])"
   ]
  },
  {
   "cell_type": "markdown",
   "id": "210becac-ad74-4d3f-b33b-2bcf7b483507",
   "metadata": {},
   "source": [
    "# Task 7\n",
    "Longest Word in a Sentence\n",
    "\n",
    "Write a function longest_word(sentence) that finds and returns the longest word in a given sentence.\n",
    "\n"
   ]
  },
  {
   "cell_type": "code",
   "execution_count": 96,
   "id": "5efb28e8-34a0-4498-ad23-f69f8b09ca68",
   "metadata": {},
   "outputs": [],
   "source": [
    "def longest_word(sentence):\n",
    "    #  You will first split the sentence into words\n",
    "    words = sentence.split()\n",
    "    \n",
    "    # Find the longest word using the max function with key=len\n",
    "    longest = max(words, key=len)\n",
    "    \n",
    "    return longest"
   ]
  },
  {
   "cell_type": "code",
   "execution_count": 100,
   "id": "461933b5-b434-4b88-8535-a1e0d707cbcf",
   "metadata": {},
   "outputs": [
    {
     "data": {
      "text/plain": [
       "'training'"
      ]
     },
     "execution_count": 100,
     "metadata": {},
     "output_type": "execute_result"
    }
   ],
   "source": [
    "longest_word(\"I am training to become a Data Analyst\")"
   ]
  },
  {
   "cell_type": "markdown",
   "id": "a9357257-205d-42a6-9c2d-59308a0e4a45",
   "metadata": {},
   "source": [
    "# Task  8\n",
    "Sum of Squares\n",
    "\n",
    "Create a function sum_of_squares(numbers) that returns the sum of the squares of all numbers in a list.\n",
    "Example: sum_of_squares([1, 2, 3]) → 14\n"
   ]
  },
  {
   "cell_type": "code",
   "execution_count": 112,
   "id": "312da959-47da-4f1f-af6a-841c1b09d7b3",
   "metadata": {},
   "outputs": [],
   "source": [
    "def sum_of_squares(numbers):\n",
    "    # Use list comprehension to square each number and sum them\n",
    "    return sum([num ** 2 for num in numbers])"
   ]
  },
  {
   "cell_type": "code",
   "execution_count": 116,
   "id": "f1016845-aebe-482c-a3d1-cbf4b534eb04",
   "metadata": {},
   "outputs": [
    {
     "data": {
      "text/plain": [
       "77"
      ]
     },
     "execution_count": 116,
     "metadata": {},
     "output_type": "execute_result"
    }
   ],
   "source": [
    "sum_of_squares([4, 6, 3, 4])"
   ]
  },
  {
   "cell_type": "markdown",
   "id": "715643ba-b421-4430-926f-0056ecd9bd73",
   "metadata": {},
   "source": [
    "# Task 9\n",
    "Find Factorials for a List of Numbers\n",
    "\n",
    "Write a function list_factorials(numbers) that takes a list of integers and returns a list of their factorials.\n",
    "\n"
   ]
  },
  {
   "cell_type": "code",
   "execution_count": 119,
   "id": "0e90d3b6-f11a-40de-a6a6-ad47913a8a1a",
   "metadata": {},
   "outputs": [],
   "source": [
    "import math\n",
    "\n",
    "def list_factorials(numbers):\n",
    "    # Use list comprehension to calculate factorial for each number\n",
    "    return [math.factorial(num) for num in numbers]"
   ]
  },
  {
   "cell_type": "code",
   "execution_count": 123,
   "id": "e50f5cd8-5fff-4420-8dac-0489825d5884",
   "metadata": {},
   "outputs": [
    {
     "data": {
      "text/plain": [
       "[720, 24, 6, 24, 120]"
      ]
     },
     "execution_count": 123,
     "metadata": {},
     "output_type": "execute_result"
    }
   ],
   "source": [
    "list_factorials([6, 4, 3, 4, 5])"
   ]
  },
  {
   "cell_type": "markdown",
   "id": "b06d39c2-d7d6-4422-99a5-60a799b0f43f",
   "metadata": {},
   "source": [
    "# Task 10\n",
    "Title Case a Sentence\n",
    "\n",
    "Define a function title_case(sentence) that converts a sentence so that the first letter of each word is capitalized.\n",
    "Example: title_case(\"hello world\") → \"Hello World\""
   ]
  },
  {
   "cell_type": "code",
   "execution_count": 144,
   "id": "26ba4982-a24e-4baa-8f14-15e8814eda28",
   "metadata": {},
   "outputs": [],
   "source": [
    "def title_case(sentence):\n",
    "    # Use the str.title() method to capitalize the first letter of each word\n",
    "    return sentence.title()"
   ]
  },
  {
   "cell_type": "code",
   "execution_count": 148,
   "id": "a91b3317-65f4-4ee1-af9f-7a4aa4b0d1fd",
   "metadata": {},
   "outputs": [
    {
     "data": {
      "text/plain": [
       "'We Are Learning How To Write Python Codes In This Class.'"
      ]
     },
     "execution_count": 148,
     "metadata": {},
     "output_type": "execute_result"
    }
   ],
   "source": [
    "title_case(\"We are learning how to write python codes in this class.\")"
   ]
  },
  {
   "cell_type": "code",
   "execution_count": null,
   "id": "046272eb-edde-42c7-9aaa-5edf5d31f323",
   "metadata": {},
   "outputs": [],
   "source": []
  }
 ],
 "metadata": {
  "kernelspec": {
   "display_name": "Python [conda env:base] *",
   "language": "python",
   "name": "conda-base-py"
  },
  "language_info": {
   "codemirror_mode": {
    "name": "ipython",
    "version": 3
   },
   "file_extension": ".py",
   "mimetype": "text/x-python",
   "name": "python",
   "nbconvert_exporter": "python",
   "pygments_lexer": "ipython3",
   "version": "3.12.7"
  }
 },
 "nbformat": 4,
 "nbformat_minor": 5
}
